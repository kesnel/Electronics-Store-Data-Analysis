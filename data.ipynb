{
 "cells": [
  {
   "cell_type": "markdown",
   "metadata": {},
   "source": [
    "<h1 align=\"center\"> Project Setup </h1>"
   ]
  },
  {
   "cell_type": "markdown",
   "metadata": {},
   "source": [
    "#### 1. Setup the project environnement"
   ]
  },
  {
   "cell_type": "code",
   "execution_count": null,
   "metadata": {},
   "outputs": [],
   "source": []
  },
  {
   "cell_type": "code",
   "execution_count": null,
   "metadata": {},
   "outputs": [],
   "source": []
  },
  {
   "cell_type": "markdown",
   "metadata": {},
   "source": [
    "#### 2. Install all requirements for the project"
   ]
  },
  {
   "cell_type": "code",
   "execution_count": 5,
   "metadata": {},
   "outputs": [
    {
     "name": "stdout",
     "output_type": "stream",
     "text": [
      "Requirement already satisfied: dateparser in /Users/kesnel/opt/anaconda3/lib/python3.8/site-packages (1.0.0)\n",
      "Requirement already satisfied: python-dateutil in /Users/kesnel/opt/anaconda3/lib/python3.8/site-packages (from dateparser) (2.8.1)\n",
      "Requirement already satisfied: pytz in /Users/kesnel/opt/anaconda3/lib/python3.8/site-packages (from dateparser) (2020.1)\n",
      "Requirement already satisfied: tzlocal in /Users/kesnel/opt/anaconda3/lib/python3.8/site-packages (from dateparser) (2.1)\n",
      "Requirement already satisfied: regex!=2019.02.19 in /Users/kesnel/opt/anaconda3/lib/python3.8/site-packages (from dateparser) (2020.10.15)\n",
      "Requirement already satisfied: six>=1.5 in /Users/kesnel/opt/anaconda3/lib/python3.8/site-packages (from python-dateutil->dateparser) (1.15.0)\n"
     ]
    }
   ],
   "source": [
    "# !pip install numpy\n",
    "# !pip install pandas\n",
    "# !pip install matplotlib\n",
    "# !pip install seaborn\n",
    "!pip install dateparser"
   ]
  },
  {
   "cell_type": "markdown",
   "metadata": {},
   "source": [
    "#### 3. Importing Dependencies"
   ]
  },
  {
   "cell_type": "code",
   "execution_count": 4,
   "metadata": {},
   "outputs": [],
   "source": [
    "import numpy as np\n",
    "import pandas as pd\n",
    "import matplotlib.pyplot as plt\n",
    "import seaborn as sns\n",
    "\n",
    "import os\n",
    "import sys\n",
    "\n",
    "import dateparser\n",
    "from datetime import datetime as dt"
   ]
  },
  {
   "cell_type": "markdown",
   "metadata": {},
   "source": [
    "#### 4. Define some usefull variables"
   ]
  },
  {
   "cell_type": "code",
   "execution_count": 3,
   "metadata": {},
   "outputs": [],
   "source": [
    "DOCS_PATH = 'docs/'\n",
    "DATA_PATH = 'data/'"
   ]
  },
  {
   "cell_type": "markdown",
   "metadata": {},
   "source": [
    "#### 5. Importing Datasets"
   ]
  },
  {
   "cell_type": "code",
   "execution_count": 4,
   "metadata": {},
   "outputs": [],
   "source": [
    "commune_df = pd.read_excel(DATA_PATH + \"commune.xlsx\")\n",
    "enroll_df = pd.read_csv(DATA_PATH + \"enroll.csv\")\n",
    "industry_df = pd.read_csv(DATA_PATH + \"industry.csv\")\n",
    "ord_df = pd.read_csv(DATA_PATH + \"ord.csv\")\n",
    "quest_df = pd.read_csv(DATA_PATH + \"quest.csv\")\n",
    "studyd_df = pd.read_csv(DATA_PATH + \"study_domain.csv\")\n",
    "tech_df = pd.read_csv(DATA_PATH + \"technology.csv\")\n",
    "transaction_df = pd.read_csv(DATA_PATH + \"transaction.csv\")"
   ]
  },
  {
   "cell_type": "markdown",
   "metadata": {},
   "source": [
    "<br><br>"
   ]
  },
  {
   "cell_type": "markdown",
   "metadata": {},
   "source": [
    "<h1 align=\"center\"> Data Processing </h1>"
   ]
  }
 ],
 "metadata": {
  "kernelspec": {
   "display_name": "Python 3",
   "language": "python",
   "name": "python3"
  },
  "language_info": {
   "codemirror_mode": {
    "name": "ipython",
    "version": 3
   },
   "file_extension": ".py",
   "mimetype": "text/x-python",
   "name": "python",
   "nbconvert_exporter": "python",
   "pygments_lexer": "ipython3",
   "version": "3.8.5"
  }
 },
 "nbformat": 4,
 "nbformat_minor": 4
}
